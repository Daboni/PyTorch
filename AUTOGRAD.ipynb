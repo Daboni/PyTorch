{
  "nbformat": 4,
  "nbformat_minor": 0,
  "metadata": {
    "colab": {
      "name": "AUTOGRAD.ipynb",
      "provenance": []
    },
    "kernelspec": {
      "name": "python3",
      "display_name": "Python 3"
    }
  },
  "cells": [
    {
      "cell_type": "markdown",
      "metadata": {
        "id": "UvH3fF9LmUSw"
      },
      "source": [
        "AUTOGRAD 자동미분"
      ]
    },
    {
      "cell_type": "code",
      "metadata": {
        "id": "d30qyl5gmTNt"
      },
      "source": [
        "import torch"
      ],
      "execution_count": 1,
      "outputs": []
    },
    {
      "cell_type": "markdown",
      "metadata": {
        "id": "kFDNkdtqm-nb"
      },
      "source": [
        "requires_grad = True 를 설정하여 연산을 기록"
      ]
    },
    {
      "cell_type": "code",
      "metadata": {
        "id": "SBp5Jl2Om8ij",
        "outputId": "6d3ddd0a-a2a4-4b84-dd80-9b15b018dc0a",
        "colab": {
          "base_uri": "https://localhost:8080/"
        }
      },
      "source": [
        "x = torch.ones(2,2,requires_grad=True)\n",
        "print(x)"
      ],
      "execution_count": 14,
      "outputs": [
        {
          "output_type": "stream",
          "text": [
            "tensor([[1., 1.],\n",
            "        [1., 1.]], requires_grad=True)\n"
          ],
          "name": "stdout"
        }
      ]
    },
    {
      "cell_type": "code",
      "metadata": {
        "id": "f7w0eRKenOU4",
        "outputId": "3073c23b-28e9-4b94-a3cf-848b3b5e3cd0",
        "colab": {
          "base_uri": "https://localhost:8080/"
        }
      },
      "source": [
        "y = x+2\n",
        "print(y)"
      ],
      "execution_count": 15,
      "outputs": [
        {
          "output_type": "stream",
          "text": [
            "tensor([[3., 3.],\n",
            "        [3., 3.]], grad_fn=<AddBackward0>)\n"
          ],
          "name": "stdout"
        }
      ]
    },
    {
      "cell_type": "code",
      "metadata": {
        "id": "zoUEBr2hnUHx",
        "outputId": "9713a073-2e4e-4fba-d3c1-a6e1b5ee555a",
        "colab": {
          "base_uri": "https://localhost:8080/"
        }
      },
      "source": [
        "z = y*y*3\n",
        "out = z.mean()\n",
        "\n",
        "print(z,out)"
      ],
      "execution_count": 16,
      "outputs": [
        {
          "output_type": "stream",
          "text": [
            "tensor([[27., 27.],\n",
            "        [27., 27.]], grad_fn=<MulBackward0>) tensor(27., grad_fn=<MeanBackward0>)\n"
          ],
          "name": "stdout"
        }
      ]
    },
    {
      "cell_type": "markdown",
      "metadata": {
        "id": "FqS4haVln9Dw"
      },
      "source": [
        ".requires.grad_() 은 기존 tensor의 requires.grad 값을 바꿔치기 하여 변경"
      ]
    },
    {
      "cell_type": "code",
      "metadata": {
        "id": "4lC8b_DnnpEI",
        "outputId": "bcbc68e6-3aff-4f22-a5ca-940d68f17d36",
        "colab": {
          "base_uri": "https://localhost:8080/"
        }
      },
      "source": [
        "x = torch.randn(2,2)\n",
        "x = (x*3)/(x-1)\n",
        "print(x.requires_grad)\n",
        "x.requires_grad_(True)\n",
        "print(x.requires_grad)\n",
        "y = (x*x).sum()\n",
        "print(y.grad_fn)"
      ],
      "execution_count": 10,
      "outputs": [
        {
          "output_type": "stream",
          "text": [
            "False\n",
            "True\n",
            "<SumBackward0 object at 0x7fc215a819e8>\n"
          ],
          "name": "stdout"
        }
      ]
    },
    {
      "cell_type": "markdown",
      "metadata": {
        "id": "G2YZ6TK8qaGu"
      },
      "source": [
        "Gradient : 변화도"
      ]
    },
    {
      "cell_type": "code",
      "metadata": {
        "id": "zyQScF1Eq2Rh"
      },
      "source": [
        "out.backward()"
      ],
      "execution_count": 17,
      "outputs": []
    },
    {
      "cell_type": "code",
      "metadata": {
        "id": "PWDPIz2job9Y",
        "outputId": "30291532-086b-4bcc-ab5b-7d9d0a16a94e",
        "colab": {
          "base_uri": "https://localhost:8080/"
        }
      },
      "source": [
        "print(x)3\n",
        "print(x.grad_fn)\n",
        "print(x.grad)"
      ],
      "execution_count": 21,
      "outputs": [
        {
          "output_type": "stream",
          "text": [
            "tensor([[1., 1.],\n",
            "        [1., 1.]], requires_grad=True)\n",
            "None\n",
            "tensor([[4.5000, 4.5000],\n",
            "        [4.5000, 4.5000]])\n"
          ],
          "name": "stdout"
        }
      ]
    },
    {
      "cell_type": "markdown",
      "metadata": {
        "id": "GbXvbOV3pAK6"
      },
      "source": [
        "torch.autograd 는 벡터-야코비안 곱을 계산하는 엔진"
      ]
    },
    {
      "cell_type": "code",
      "metadata": {
        "id": "XnDGmmWOsf0O",
        "outputId": "948c11a7-603c-4bee-8e1e-8bfb459d3827",
        "colab": {
          "base_uri": "https://localhost:8080/"
        }
      },
      "source": [
        "x = torch.randn(3, requires_grad=True)\n",
        "\n",
        "y = x*2\n",
        "while y.data.norm() < 1000:\n",
        "  y = y*2\n",
        "\n",
        "print(y)"
      ],
      "execution_count": 22,
      "outputs": [
        {
          "output_type": "stream",
          "text": [
            "tensor([ 590.9181, -216.6573,  833.0831], grad_fn=<MulBackward0>)\n"
          ],
          "name": "stdout"
        }
      ]
    },
    {
      "cell_type": "code",
      "metadata": {
        "id": "ez6k4HoTsqnZ",
        "outputId": "46717e33-bb41-4688-83cd-4f4c0392b0ef",
        "colab": {
          "base_uri": "https://localhost:8080/"
        }
      },
      "source": [
        "print(x)\n",
        "\n",
        "v=torch.tensor([0.1,1.0,0.0001],dtype=torch.float)\n",
        "y.backward(v)\n",
        "\n",
        "print(x.grad)"
      ],
      "execution_count": 23,
      "outputs": [
        {
          "output_type": "stream",
          "text": [
            "tensor([ 0.5771, -0.2116,  0.8136], requires_grad=True)\n",
            "tensor([1.0240e+02, 1.0240e+03, 1.0240e-01])\n"
          ],
          "name": "stdout"
        }
      ]
    },
    {
      "cell_type": "markdown",
      "metadata": {
        "id": "QTU0kVAhwUzU"
      },
      "source": [
        "with torch.no_grad(): 를 통하여 autograd가 .requires_grad = True 인 Tensor들의 연산 기록을 추적하는 것을 멈출 수 있음."
      ]
    },
    {
      "cell_type": "code",
      "metadata": {
        "id": "7dWQtXLTtg2Q",
        "outputId": "3e453707-c8c4-4419-b3ab-90c6428b299e",
        "colab": {
          "base_uri": "https://localhost:8080/"
        }
      },
      "source": [
        "print(x.requires_grad)\n",
        "print((x**2).requires_grad)\n",
        "\n",
        "with torch.no_grad() : \n",
        "  print((x**2).requires_grad)"
      ],
      "execution_count": 25,
      "outputs": [
        {
          "output_type": "stream",
          "text": [
            "True\n",
            "True\n",
            "False\n"
          ],
          "name": "stdout"
        }
      ]
    },
    {
      "cell_type": "markdown",
      "metadata": {
        "id": "WjGhO4t7xC_i"
      },
      "source": [
        ".detach()를 이용하여 content는 같지만 requires_grad가 다른 새로운 tensor를 가져올 수 있음"
      ]
    },
    {
      "cell_type": "code",
      "metadata": {
        "id": "0mwMJjQtw2Cr",
        "outputId": "bb507c48-9c43-40b0-c104-d6d95887f5f0",
        "colab": {
          "base_uri": "https://localhost:8080/"
        }
      },
      "source": [
        "print(x.requires_grad)\n",
        "y=x.detach()\n",
        "print(y.requires_grad)\n",
        "print(x.eq(y).all())"
      ],
      "execution_count": 28,
      "outputs": [
        {
          "output_type": "stream",
          "text": [
            "True\n",
            "False\n",
            "tensor(True)\n"
          ],
          "name": "stdout"
        }
      ]
    },
    {
      "cell_type": "code",
      "metadata": {
        "id": "R3cBdL_bxW_q",
        "outputId": "f6553814-f9a4-4557-e74e-a21bf530dc3d",
        "colab": {
          "base_uri": "https://localhost:8080/"
        }
      },
      "source": [
        "x = torch.randn(2,2)\n",
        "print(x.requires_grad)\n",
        "y=x.detach()\n",
        "print(y.requires_grad)\n",
        "print(x.eq(y).all())"
      ],
      "execution_count": 29,
      "outputs": [
        {
          "output_type": "stream",
          "text": [
            "False\n",
            "False\n",
            "tensor(True)\n"
          ],
          "name": "stdout"
        }
      ]
    },
    {
      "cell_type": "code",
      "metadata": {
        "id": "iAfT4RNOxo1M",
        "outputId": "07e3fe4c-2ac8-43e6-a615-8656240f4f32",
        "colab": {
          "base_uri": "https://localhost:8080/"
        }
      },
      "source": [
        "x = torch.ones(2,2)\n",
        "y = torch.ones(2,2)\n",
        "print(x.eq(y).all())"
      ],
      "execution_count": 31,
      "outputs": [
        {
          "output_type": "stream",
          "text": [
            "tensor(True)\n"
          ],
          "name": "stdout"
        }
      ]
    },
    {
      "cell_type": "code",
      "metadata": {
        "id": "j-p2jHpTyIsc"
      },
      "source": [
        ""
      ],
      "execution_count": null,
      "outputs": []
    }
  ]
}